{
 "cells": [
  {
   "cell_type": "markdown",
   "id": "d42b7b5b",
   "metadata": {},
   "source": [
    "лабараторная работа№2 Собран Владимир (Волгоград)"
   ]
  },
  {
   "cell_type": "markdown",
   "id": "5c5707af",
   "metadata": {},
   "source": [
    "№1"
   ]
  },
  {
   "cell_type": "code",
   "execution_count": null,
   "id": "77ae4445",
   "metadata": {},
   "outputs": [],
   "source": [
    "import matplotlib.pyplot as plt\n",
    "import numpy as np\n",
    "from scipy.integrate import odeint\n",
    "\n",
    "n=[1991, 1992,1993, 1994,1995, 1996, 1997, 1998, 1999, 2000, 2001,2002,2003,2004, 2005, 2006, 2007, 2008, 2009, 2010, 2011, 2012, 2013, 2014, 2015, 2016, 2017, 2018, 2019, 2020, 2021] \n",
    "m=[1000000, 998000, 996000, 999000, 999000, 1000000, 999000, 996000, 989000, 983000, 1011417, 1011400, 1004200, 999100, 991700,986300, 983900, 981909, 1021215, 1021200, 1018739, 1018790,1019000, 1017985, 1017451, 1016137, 1015586, 1013533, 1013468, 1008998, 1028036]\n",
    "print(len(n))\n",
    "print(len(m))\n",
    "plt.plot(n,m)\n",
    "plt.grid(True)\n",
    "plt.show()"
   ]
  },
  {
   "cell_type": "markdown",
   "id": "fbdefffe",
   "metadata": {},
   "source": [
    "№2"
   ]
  },
  {
   "cell_type": "code",
   "execution_count": null,
   "id": "a9bc03c9",
   "metadata": {},
   "outputs": [],
   "source": [
    "import matplotlib.pyplot as plt\n",
    "import numpy as np\n",
    "from scipy.integrate import odeint\n",
    "def dydt(x,t):\n",
    "  k = 0.5\n",
    "  return k*x\n",
    "t = np.linspace(0,0.01,31)\n",
    "\n",
    "solve = odeint(dydt, 1000000, t=t)\n",
    "solve = solve.flatten()\n",
    "n = [1991, 1992, 1993, 1994, 1995, 1996, 1997, 1998, 1999, 2000, 2001, 2002, 2003, 2004, 2005, 2006, 2007, 2008, 2009, 2010, 2011, 2012, 2013, 2014, 2015, 2016, 2017, 2018, 2019, 2020, 2021]\n",
    "m = [1000000, 998000, 996000, 999000, 999000, 1000000, 999000, 996000, 989000, 983000, 1011417, 1003000, 1011400, 1004200, 999100, 991700,986300, 983900, 981909, 1021215, 1021200, 1018739, 1018790, 1017985, 1017451, 1016137, 1015586, 1013533, 1013468, 1008998, 1028036]\n",
    "print(len(n))\n",
    "print(len(m))\n",
    "%matplotlib inline\n",
    "\n",
    "\n",
    "plt.plot(n, solve, label = r\"x′=kx\")\n",
    "plt.plot(n,m)\n",
    "plt.grid(True)\n",
    "plt.legend()\n",
    "plt.show()"
   ]
  }
 ],
 "metadata": {
  "kernelspec": {
   "display_name": "Python 3 (ipykernel)",
   "language": "python",
   "name": "python3"
  },
  "language_info": {
   "codemirror_mode": {
    "name": "ipython",
    "version": 3
   },
   "file_extension": ".py",
   "mimetype": "text/x-python",
   "name": "python",
   "nbconvert_exporter": "python",
   "pygments_lexer": "ipython3",
   "version": "3.9.6"
  }
 },
 "nbformat": 4,
 "nbformat_minor": 5
}
